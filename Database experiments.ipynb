{
 "cells": [
  {
   "cell_type": "markdown",
   "metadata": {},
   "source": [
    " conda install -c conda-forge/label/gcc7 django "
   ]
  },
  {
   "cell_type": "markdown",
   "metadata": {},
   "source": [
    "https://djangosnippets.org/snippets/2451/"
   ]
  },
  {
   "cell_type": "code",
   "execution_count": 1,
   "metadata": {
    "collapsed": true
   },
   "outputs": [],
   "source": [
    "from django.db import models"
   ]
  },
  {
   "cell_type": "code",
   "execution_count": 2,
   "metadata": {
    "collapsed": true
   },
   "outputs": [],
   "source": [
    "from django.conf import settings\n",
    "\n",
    "settings.configure()"
   ]
  },
  {
   "cell_type": "code",
   "execution_count": 3,
   "metadata": {
    "collapsed": true
   },
   "outputs": [],
   "source": [
    "import django\n",
    "import os\n",
    "os.environ.setdefault(\"DJANGO_SETTINGS_MODULE\", \"mysite.settings\")\n",
    "django.setup()"
   ]
  },
  {
   "cell_type": "code",
   "execution_count": 4,
   "metadata": {},
   "outputs": [
    {
     "ename": "ImproperlyConfigured",
     "evalue": "Unable to detect the app label for model \"Dictionary.\" Ensure that its module, \"__main__\", is located inside an installed app.",
     "output_type": "error",
     "traceback": [
      "\u001b[0;31m---------------------------------------------------------------------------\u001b[0m",
      "\u001b[0;31mIndexError\u001b[0m                                Traceback (most recent call last)",
      "\u001b[0;32m~/anaconda3/lib/python3.6/site-packages/django/db/models/base.py\u001b[0m in \u001b[0;36m__new__\u001b[0;34m(cls, name, bases, attrs)\u001b[0m\n\u001b[1;32m    125\u001b[0m                 \u001b[0;32mtry\u001b[0m\u001b[0;34m:\u001b[0m\u001b[0;34m\u001b[0m\u001b[0m\n\u001b[0;32m--> 126\u001b[0;31m                     \u001b[0mkwargs\u001b[0m \u001b[0;34m=\u001b[0m \u001b[0;34m{\u001b[0m\u001b[0;34m\"app_label\"\u001b[0m\u001b[0;34m:\u001b[0m \u001b[0mpackage_components\u001b[0m\u001b[0;34m[\u001b[0m\u001b[0mapp_label_index\u001b[0m\u001b[0;34m]\u001b[0m\u001b[0;34m}\u001b[0m\u001b[0;34m\u001b[0m\u001b[0m\n\u001b[0m\u001b[1;32m    127\u001b[0m                 \u001b[0;32mexcept\u001b[0m \u001b[0mIndexError\u001b[0m\u001b[0;34m:\u001b[0m\u001b[0;34m\u001b[0m\u001b[0m\n",
      "\u001b[0;31mIndexError\u001b[0m: list index out of range",
      "\nDuring handling of the above exception, another exception occurred:\n",
      "\u001b[0;31mImproperlyConfigured\u001b[0m                      Traceback (most recent call last)",
      "\u001b[0;32m<ipython-input-4-69ca3b13f785>\u001b[0m in \u001b[0;36m<module>\u001b[0;34m()\u001b[0m\n\u001b[1;32m      1\u001b[0m \u001b[0;31m# Dictionary Helper Models\u001b[0m\u001b[0;34m\u001b[0m\u001b[0;34m\u001b[0m\u001b[0m\n\u001b[1;32m      2\u001b[0m \u001b[0;34m\u001b[0m\u001b[0m\n\u001b[0;32m----> 3\u001b[0;31m \u001b[0;32mclass\u001b[0m \u001b[0mDictionary\u001b[0m\u001b[0;34m(\u001b[0m\u001b[0mmodels\u001b[0m\u001b[0;34m.\u001b[0m\u001b[0mModel\u001b[0m\u001b[0;34m)\u001b[0m\u001b[0;34m:\u001b[0m\u001b[0;34m\u001b[0m\u001b[0m\n\u001b[0m\u001b[1;32m      4\u001b[0m     \"\"\"A model that represents a dictionary. This model implements most of the dictionary interface,\n\u001b[1;32m      5\u001b[0m     \u001b[0mallowing\u001b[0m \u001b[0mit\u001b[0m \u001b[0mto\u001b[0m \u001b[0mbe\u001b[0m \u001b[0mused\u001b[0m \u001b[0mlike\u001b[0m \u001b[0ma\u001b[0m \u001b[0mpython\u001b[0m \u001b[0mdictionary\u001b[0m\u001b[0;34m.\u001b[0m\u001b[0;34m\u001b[0m\u001b[0m\n",
      "\u001b[0;32m~/anaconda3/lib/python3.6/site-packages/django/db/models/base.py\u001b[0m in \u001b[0;36m__new__\u001b[0;34m(cls, name, bases, attrs)\u001b[0m\n\u001b[1;32m    129\u001b[0m                         \u001b[0;34m'Unable to detect the app label for model \"%s.\" '\u001b[0m\u001b[0;34m\u001b[0m\u001b[0m\n\u001b[1;32m    130\u001b[0m                         \u001b[0;34m'Ensure that its module, \"%s\", is located inside an installed '\u001b[0m\u001b[0;34m\u001b[0m\u001b[0m\n\u001b[0;32m--> 131\u001b[0;31m                         \u001b[0;34m'app.'\u001b[0m \u001b[0;34m%\u001b[0m \u001b[0;34m(\u001b[0m\u001b[0mnew_class\u001b[0m\u001b[0;34m.\u001b[0m\u001b[0m__name__\u001b[0m\u001b[0;34m,\u001b[0m \u001b[0mmodel_module\u001b[0m\u001b[0;34m.\u001b[0m\u001b[0m__name__\u001b[0m\u001b[0;34m)\u001b[0m\u001b[0;34m\u001b[0m\u001b[0m\n\u001b[0m\u001b[1;32m    132\u001b[0m                     )\n\u001b[1;32m    133\u001b[0m             \u001b[0;32melse\u001b[0m\u001b[0;34m:\u001b[0m\u001b[0;34m\u001b[0m\u001b[0m\n",
      "\u001b[0;31mImproperlyConfigured\u001b[0m: Unable to detect the app label for model \"Dictionary.\" Ensure that its module, \"__main__\", is located inside an installed app."
     ]
    }
   ],
   "source": [
    "# Dictionary Helper Models\n",
    "\n",
    "class Dictionary(models.Model):\n",
    "    \"\"\"A model that represents a dictionary. This model implements most of the dictionary interface,\n",
    "    allowing it to be used like a python dictionary.\n",
    "\n",
    "    \"\"\"\n",
    "    name = models.CharField(max_length=255)\n",
    "\n",
    "    @staticmethod\n",
    "    def getDict(name):\n",
    "        \"\"\"Get the Dictionary of the given name.\n",
    "\n",
    "        \"\"\"\n",
    "        df = Dictionary.objects.select_related().get(name=name)\n",
    "\n",
    "        return df\n",
    "\n",
    "    def __getitem__(self, key):\n",
    "        \"\"\"Returns the value of the selected key.\n",
    "\n",
    "        \"\"\"\n",
    "        return self.keyvaluepair_set.get(key=key).value\n",
    "\n",
    "    def __setitem__(self, key, value):\n",
    "        \"\"\"Sets the value of the given key in the Dictionary.\n",
    "\n",
    "        \"\"\"\n",
    "        try:\n",
    "            kvp = self.keyvaluepair_set.get(key=key)\n",
    "\n",
    "        except KeyValuePair.DoesNotExist:\n",
    "            KeyValuePair.objects.create(container=self, key=key, value=value)\n",
    "\n",
    "        else:\n",
    "            kvp.value = value\n",
    "            kvp.save()\n",
    "\n",
    "    def __delitem__(self, key):\n",
    "        \"\"\"Removed the given key from the Dictionary.\n",
    "\n",
    "        \"\"\"\n",
    "        try:\n",
    "            kvp = self.keyvaluepair_set.get(key=key)\n",
    "\n",
    "        except KeyValuePair.DoesNotExist:\n",
    "            raise KeyError\n",
    "\n",
    "        else:\n",
    "            kvp.delete()\n",
    "\n",
    "    def __len__(self):\n",
    "        \"\"\"Returns the length of this Dictionary.\n",
    "\n",
    "        \"\"\"\n",
    "        return self.keyvaluepair_set.count()\n",
    "\n",
    "    def iterkeys(self):\n",
    "        \"\"\"Returns an iterator for the keys of this Dictionary.\n",
    "\n",
    "        \"\"\"\n",
    "        return iter(kvp.key for kvp in self.keyvaluepair_set.all())\n",
    "\n",
    "    def itervalues(self):\n",
    "        \"\"\"Returns an iterator for the keys of this Dictionary.\n",
    "\n",
    "        \"\"\"\n",
    "        return iter(kvp.value for kvp in self.keyvaluepair_set.all())\n",
    "\n",
    "    __iter__ = iterkeys\n",
    "\n",
    "    def iteritems(self):\n",
    "        \"\"\"Returns an iterator over the tuples of this Dictionary.\n",
    "\n",
    "        \"\"\"\n",
    "        return iter((kvp.key, kvp.value) for kvp in self.keyvaluepair_set.all())\n",
    "\n",
    "    def keys(self):\n",
    "        \"\"\"Returns all keys in this Dictionary as a list.\n",
    "\n",
    "        \"\"\"\n",
    "        return [kvp.key for kvp in self.keyvaluepair_set.all()]\n",
    "\n",
    "    def values(self):\n",
    "        \"\"\"Returns all values in this Dictionary as a list.\n",
    "\n",
    "        \"\"\"\n",
    "        return [kvp.value for kvp in self.keyvaluepair_set.all()]\n",
    "\n",
    "    def items(self):\n",
    "        \"\"\"Get a list of tuples of key, value for the items in this Dictionary.\n",
    "        This is modeled after dict.items().\n",
    "\n",
    "        \"\"\"\n",
    "        return [(kvp.key, kvp.value) for kvp in self.keyvaluepair_set.all()]\n",
    "\n",
    "    def get(self, key, default=None):\n",
    "        \"\"\"Gets the given key from the Dictionary. If the key does not exist, it\n",
    "        returns default.\n",
    "\n",
    "        \"\"\"\n",
    "        try:\n",
    "            return self[key]\n",
    "\n",
    "        except KeyError:\n",
    "            return default\n",
    "\n",
    "    def has_key(self, key):\n",
    "        \"\"\"Returns true if the Dictionary has the given key, false if not.\n",
    "\n",
    "        \"\"\"\n",
    "        return self.contains(key)\n",
    "\n",
    "    def contains(self, key):\n",
    "        \"\"\"Returns true if the Dictionary has the given key, false if not.\n",
    "\n",
    "        \"\"\"\n",
    "        try:\n",
    "            self.keyvaluepair_set.get(key=key)\n",
    "            return True\n",
    "\n",
    "        except KeyValuePair.DoesNotExist:\n",
    "            return False\n",
    "\n",
    "    def clear(self):\n",
    "        \"\"\"Deletes all keys in the Dictionary.\n",
    "\n",
    "        \"\"\"\n",
    "        self.keyvaluepair_set.all().delete()\n",
    "\n",
    "    def __unicode__(self):\n",
    "        \"\"\"Returns a unicode representation of the Dictionary.\n",
    "\n",
    "        \"\"\"\n",
    "        return unicode(self.asPyDict())\n",
    "\n",
    "    def asPyDict(self):\n",
    "        \"\"\"Get a python dictionary that represents this Dictionary object.\n",
    "        This object is read-only.\n",
    "\n",
    "        \"\"\"\n",
    "        fieldDict = dict()\n",
    "\n",
    "        for kvp in self.keyvaluepair_set.all():\n",
    "            fieldDict[kvp.key] = kvp.value\n",
    "\n",
    "        return fieldDict\n",
    "\n",
    "\n",
    "class KeyValuePair(models.Model):\n",
    "    \"\"\"A Key-Value pair with a pointer to the Dictionary that owns it.\n",
    "\n",
    "    \"\"\"\n",
    "    container = models.ForeignKey(Dictionary, db_index=True)\n",
    "    key = models.CharField(max_length=240, db_index=True)\n",
    "    value = models.CharField(max_length=240, db_index=True)"
   ]
  },
  {
   "cell_type": "code",
   "execution_count": null,
   "metadata": {
    "collapsed": true
   },
   "outputs": [],
   "source": []
  },
  {
   "cell_type": "code",
   "execution_count": null,
   "metadata": {
    "collapsed": true
   },
   "outputs": [],
   "source": []
  }
 ],
 "metadata": {
  "kernelspec": {
   "display_name": "Python [conda env:anaconda3]",
   "language": "python",
   "name": "conda-env-anaconda3-py"
  },
  "language_info": {
   "codemirror_mode": {
    "name": "ipython",
    "version": 3
   },
   "file_extension": ".py",
   "mimetype": "text/x-python",
   "name": "python",
   "nbconvert_exporter": "python",
   "pygments_lexer": "ipython3",
   "version": "3.6.3"
  }
 },
 "nbformat": 4,
 "nbformat_minor": 2
}
